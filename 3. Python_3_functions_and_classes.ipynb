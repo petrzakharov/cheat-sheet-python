{
 "cells": [
  {
   "cell_type": "markdown",
   "metadata": {},
   "source": [
    "# Чтение и запись в файлы"
   ]
  },
  {
   "cell_type": "code",
   "execution_count": null,
   "metadata": {},
   "outputs": [],
   "source": [
    "# Вариант 1\n",
    "\n",
    "# 'r' - открыть файо для чтения\n",
    "# 'w' - очистить файл и открыть для записи новых данных\n",
    "# 'a' - добавить строчки к концу файла\n",
    "f = open('adult.csv', 'r')\n",
    "for line in f:\n",
    "    print(line)\n",
    "    break\n",
    "    \n",
    "f.close()"
   ]
  },
  {
   "cell_type": "code",
   "execution_count": null,
   "metadata": {},
   "outputs": [],
   "source": [
    "# прочитать содержимое файла в список\n",
    "with open('adult.csv', 'r') as f:\n",
    "    content = f.readlines()\n",
    "\n",
    "content[:5]"
   ]
  },
  {
   "cell_type": "code",
   "execution_count": null,
   "metadata": {},
   "outputs": [],
   "source": [
    "# прочитать большой файл построчно\n",
    "with open('adult.csv') as f:\n",
    "    for line in f:\n",
    "        print(line)\n",
    "        \n",
    "        break"
   ]
  },
  {
   "cell_type": "markdown",
   "metadata": {},
   "source": [
    "# Функции и классы"
   ]
  },
  {
   "cell_type": "code",
   "execution_count": null,
   "metadata": {},
   "outputs": [],
   "source": [
    "i = 0\n",
    "with open('adult.csv', 'r') as f:\n",
    "    for line in f:\n",
    "        print(line)\n",
    "        \n",
    "        i += 1\n",
    "        if i > 5:\n",
    "            break"
   ]
  },
  {
   "cell_type": "markdown",
   "metadata": {},
   "source": [
    "Хотим классифицировать жителей в файле по возрастам:\n",
    "* до 18 лет - children \n",
    "* 19-65 - young\n",
    "* старше 65 - retiree"
   ]
  },
  {
   "cell_type": "code",
   "execution_count": null,
   "metadata": {},
   "outputs": [],
   "source": [
    "i = 0\n",
    "with open('adult.csv', 'r') as f:\n",
    "    for line in f:\n",
    "        age, *_ = line.strip().split(',')\n",
    "        \n",
    "        if i > 0:\n",
    "            print(age)\n",
    "        \n",
    "        i += 1\n",
    "        if i > 5:\n",
    "            break"
   ]
  },
  {
   "cell_type": "markdown",
   "metadata": {},
   "source": [
    "Добавим классификацию возрастов"
   ]
  },
  {
   "cell_type": "code",
   "execution_count": null,
   "metadata": {},
   "outputs": [],
   "source": [
    "i = 0\n",
    "with open('adult.csv', 'r') as f:\n",
    "    for line in f:\n",
    "        age, *_ = line.strip().split(',')\n",
    "        \n",
    "        if i > 0:\n",
    "            if int(age) <= 18:\n",
    "                age_group = 'children'\n",
    "\n",
    "            elif int(age) <= 60:\n",
    "                age_group = 'young'\n",
    "\n",
    "            else:\n",
    "                age_group = 'retiree'\n",
    "                \n",
    "            print(age, age_group)\n",
    "        \n",
    "        i += 1\n",
    "        if i > 10:\n",
    "            break"
   ]
  },
  {
   "cell_type": "markdown",
   "metadata": {},
   "source": [
    "Что тут нехорошо:\n",
    "* сложно потестировать все случаи (в нашем цикле нужных случаев может и не оказаться)\n",
    "* наш цикл стал довольно громоздким, а мы только начали\n",
    "* эта классификация может потребоваться еще в 100500 местах кода\n",
    "* данные могут быть кривыми и скрипт будет падать с ошибкой"
   ]
  },
  {
   "cell_type": "markdown",
   "metadata": {},
   "source": [
    "Условия вычисления возрастной группы:\n",
    "1. В строке 15 столбцов\n",
    "2. Столбец с возрастом первый по счету\n",
    "3. Возраст должен быть целым числом в адекватных пределах\n",
    "4. Могут добавиться еще требования, о которых мы пока не знаем"
   ]
  },
  {
   "cell_type": "code",
   "execution_count": null,
   "metadata": {},
   "outputs": [],
   "source": [
    "line = '25,Private,226802,11th,7,Never-married,Machine-op-inspct,Own-child,Black,Male,0,0,40,United-States,<=50K'"
   ]
  },
  {
   "cell_type": "code",
   "execution_count": null,
   "metadata": {},
   "outputs": [],
   "source": [
    "def line_is_correct(line):\n",
    "    \"\"\"\n",
    "    Проверка строки на корректность. Проверяются условия:\n",
    "    1. В строке 15 столбцов (пригодится с упражнения)\n",
    "    2. Столбец с возрастом первый по счету\n",
    "    3. Возраст должен быть целым числом в адекватных пределах\n",
    "    \"\"\"\n",
    "    age = line.strip().split(',')[0]\n",
    "    \n",
    "    if number_of_columns(line) == 15:\n",
    "        if age_is_correct(age):\n",
    "            return True\n",
    "    \n",
    "    return False"
   ]
  },
  {
   "cell_type": "code",
   "execution_count": null,
   "metadata": {},
   "outputs": [],
   "source": [
    "def number_of_columns(line, separator=','):\n",
    "    \"\"\"Возвращает количество столбцов в строке line с разделителем separator\"\"\"\n",
    "    \n",
    "    return len(line.split(separator))"
   ]
  },
  {
   "cell_type": "code",
   "execution_count": null,
   "metadata": {},
   "outputs": [],
   "source": [
    "def age_is_correct(age, lower_age = 0, upper_age = 120):\n",
    "    \"\"\"\n",
    "    Проверка корректности возраста age по следующим правилам:\n",
    "    1. Целое число\n",
    "    2. В адекватных пределах\n",
    "    \n",
    "    Возвращает True или False. Пример\n",
    "    age_is_correct(15)\n",
    "    True\n",
    "    \n",
    "    age_is_correct(121)\n",
    "    False\n",
    "    \n",
    "    age_is_correct(-5)\n",
    "    False\n",
    "    \"\"\"\n",
    "    \n",
    "    if str.isnumeric(age):\n",
    "        if lower_age <= int(age) <= upper_age:\n",
    "            return True\n",
    "    \n",
    "    return False"
   ]
  },
  {
   "cell_type": "markdown",
   "metadata": {},
   "source": [
    "### Добавляем функции проверки в наш цикл"
   ]
  },
  {
   "cell_type": "code",
   "execution_count": null,
   "metadata": {},
   "outputs": [],
   "source": [
    "i = 0\n",
    "with open('adult.csv', 'r') as f:\n",
    "    for line in f:\n",
    "        \n",
    "        if line_is_correct(line):\n",
    "            age, *_ = line.strip().split(',')\n",
    "            if int(age) <= 18:\n",
    "                age_group = 'children'\n",
    "\n",
    "            elif int(age) <= 60:\n",
    "                age_group = 'young'\n",
    "\n",
    "            else:\n",
    "                age_group = 'retiree'\n",
    "\n",
    "            print(age, age_group)\n",
    "        \n",
    "        i += 1\n",
    "        if i > 10:\n",
    "            break"
   ]
  },
  {
   "cell_type": "markdown",
   "metadata": {},
   "source": [
    "### Давайте вынесем классификацию возраста в отдельную функцию"
   ]
  },
  {
   "cell_type": "code",
   "execution_count": null,
   "metadata": {},
   "outputs": [],
   "source": [
    "def age_classification(age):\n",
    "    \"\"\"\n",
    "    Возвращает возрастную категорию для возраста age (можно передать как строку).\n",
    "    Классификация категорий:\n",
    "        - до 18 лет - children \n",
    "        - 19-60 - young\n",
    "        - старше 65 - retiree\n",
    "    \n",
    "    Пример\n",
    "    age_classification('18')\n",
    "    'children'\n",
    "    \n",
    "    age_classification(65)\n",
    "    'retiree'\n",
    "    \"\"\"\n",
    "    \n",
    "    if int(age) <= 18:\n",
    "        return 'children'\n",
    "    if int(age) <= 65:\n",
    "        return 'young'\n",
    "    if int(age) > 65:\n",
    "        return 'retiree'\n",
    "    return 'boom'"
   ]
  },
  {
   "cell_type": "code",
   "execution_count": null,
   "metadata": {},
   "outputs": [],
   "source": [
    "age_classification(61)"
   ]
  },
  {
   "cell_type": "code",
   "execution_count": null,
   "metadata": {},
   "outputs": [],
   "source": [
    "i = 0\n",
    "with open('adult.csv', 'r') as f:\n",
    "    for line in f:\n",
    "        if line_is_correct(line):\n",
    "            age, *_ = line.strip().split(',')\n",
    "            print(age, age_classification(age))\n",
    "        \n",
    "        i += 1\n",
    "        if i > 10:\n",
    "            break"
   ]
  },
  {
   "cell_type": "markdown",
   "metadata": {},
   "source": [
    "### Упражнение\n",
    "\n",
    "Напишите функцию, которая заменяет значения целевой переменной income с >50K и <=50K на 1 и 0.\n",
    "Добавьте проверку на корректность значения income"
   ]
  },
  {
   "cell_type": "code",
   "execution_count": null,
   "metadata": {},
   "outputs": [],
   "source": []
  },
  {
   "cell_type": "code",
   "execution_count": null,
   "metadata": {},
   "outputs": [],
   "source": []
  },
  {
   "cell_type": "code",
   "execution_count": null,
   "metadata": {},
   "outputs": [],
   "source": []
  },
  {
   "cell_type": "markdown",
   "metadata": {},
   "source": [
    "### Map и lambda-функции"
   ]
  },
  {
   "cell_type": "code",
   "execution_count": null,
   "metadata": {},
   "outputs": [],
   "source": [
    "nums = [ 1, 2, 3, 4, 5 ]"
   ]
  },
  {
   "cell_type": "code",
   "execution_count": null,
   "metadata": {},
   "outputs": [],
   "source": [
    "only_odd_numbers = lambda x: x % 2 == 0"
   ]
  },
  {
   "cell_type": "code",
   "execution_count": null,
   "metadata": {},
   "outputs": [],
   "source": [
    "[x for x in nums if only_odd_numbers(x)]"
   ]
  },
  {
   "cell_type": "code",
   "execution_count": null,
   "metadata": {},
   "outputs": [],
   "source": [
    "def square(x):\n",
    "    return x**2"
   ]
  },
  {
   "cell_type": "code",
   "execution_count": null,
   "metadata": {},
   "outputs": [],
   "source": [
    "for i in map(square, range(100, 10**10)):\n",
    "    print(i)\n",
    "    \n",
    "    break"
   ]
  },
  {
   "cell_type": "code",
   "execution_count": null,
   "metadata": {},
   "outputs": [],
   "source": [
    "list( map(square, nums) )"
   ]
  },
  {
   "cell_type": "code",
   "execution_count": null,
   "metadata": {},
   "outputs": [],
   "source": [
    "def cube(x):\n",
    "    return x**3"
   ]
  },
  {
   "cell_type": "code",
   "execution_count": null,
   "metadata": {},
   "outputs": [],
   "source": [
    "for i in range(len(nums)):\n",
    "    print(list(map(lambda x: x(nums[i]), [square, cube])))"
   ]
  },
  {
   "cell_type": "markdown",
   "metadata": {},
   "source": [
    "###  Упражнение\n",
    "Дана статистика рекламных кампаний в формате дата - кампания - переходы.\n",
    "\n",
    "Напишите функцию vk_campaigns, которая фильтрует список ad_stats по кампании vk. А затем функцию, вычисляющую сумму переходов по кампаниям vk."
   ]
  },
  {
   "cell_type": "code",
   "execution_count": null,
   "metadata": {},
   "outputs": [],
   "source": [
    "ad_stats = [\n",
    "    '2018-01-01,vk,43',\n",
    "    '2018-01-01,fb,775',\n",
    "    '2018-01-01,ya,64',\n",
    "    '2018-01-02,vk,1164',\n",
    "    '2018-01-02,fb,35',\n",
    "    '2018-01-02,ya,254',\n",
    "    '2018-01-02,ok,645',\n",
    "    '2018-01-03,vk,7754',\n",
    "    '2018-01-03,fb,654',\n",
    "    '2018-01-03,ya,4625',\n",
    "    '2018-01-03,ok,245',\n",
    "]"
   ]
  },
  {
   "cell_type": "code",
   "execution_count": null,
   "metadata": {},
   "outputs": [],
   "source": []
  },
  {
   "cell_type": "code",
   "execution_count": null,
   "metadata": {},
   "outputs": [],
   "source": []
  },
  {
   "cell_type": "code",
   "execution_count": null,
   "metadata": {},
   "outputs": [],
   "source": []
  },
  {
   "cell_type": "markdown",
   "metadata": {},
   "source": [
    "### Если аргументы функции заранее неизвестны"
   ]
  },
  {
   "cell_type": "code",
   "execution_count": null,
   "metadata": {},
   "outputs": [],
   "source": [
    "def api_request(*params):\n",
    "    date_start = params[0]\n",
    "    date_end = params[1]\n",
    "    \n",
    "    print(date_start, date_end)"
   ]
  },
  {
   "cell_type": "code",
   "execution_count": null,
   "metadata": {},
   "outputs": [],
   "source": [
    "api_request('2019-01-01', '2019-01-31')"
   ]
  },
  {
   "cell_type": "code",
   "execution_count": null,
   "metadata": {},
   "outputs": [],
   "source": [
    "def api_request(**params):\n",
    "    date_start = params['date_start']\n",
    "    date_end = params['date_end']\n",
    "    \n",
    "    print(date_start, date_end)"
   ]
  },
  {
   "cell_type": "code",
   "execution_count": null,
   "metadata": {},
   "outputs": [],
   "source": [
    "api_request(date_end='2019-01-31', date_start='2019-01-01')"
   ]
  },
  {
   "cell_type": "code",
   "execution_count": null,
   "metadata": {},
   "outputs": [],
   "source": [
    "def request(*args):\n",
    "    return args"
   ]
  },
  {
   "cell_type": "code",
   "execution_count": null,
   "metadata": {},
   "outputs": [],
   "source": [
    "request('2019-01-01', '2019-01-31')"
   ]
  },
  {
   "cell_type": "code",
   "execution_count": null,
   "metadata": {},
   "outputs": [],
   "source": [
    "def request(**kwargs):\n",
    "    return kwargs"
   ]
  },
  {
   "cell_type": "code",
   "execution_count": null,
   "metadata": {},
   "outputs": [],
   "source": [
    "request(date_from='2019-01-01', date_to='2019-01-31')"
   ]
  },
  {
   "cell_type": "markdown",
   "metadata": {},
   "source": [
    "### Упражнение\n",
    "Необходима функция, которая составляет запрос к API в следующем формате:\n",
    "\n",
    "https://api.service.ru/reports?date1=2018-01-01&date2=2018-01-31&accuracy=full&id=4721932\n",
    "\n",
    "Хост https://api.service.ru постоянен, название метода 'reports' и набор параметров date1, date2, accuracy, id может меняться и задается пользователем в качестве аргументов функции. В итоге функция должна возвращать URL для запроса к API с параметрами."
   ]
  },
  {
   "cell_type": "code",
   "execution_count": null,
   "metadata": {},
   "outputs": [],
   "source": [
    "# для перевода словаря в параметры URL можно использовать urlencode\n",
    "\n",
    "from urllib.parse import urlencode\n",
    "urlencode({'param1': 'foo', 'param2': 'bar'})"
   ]
  },
  {
   "cell_type": "code",
   "execution_count": null,
   "metadata": {},
   "outputs": [],
   "source": []
  },
  {
   "cell_type": "code",
   "execution_count": null,
   "metadata": {},
   "outputs": [],
   "source": []
  },
  {
   "cell_type": "code",
   "execution_count": null,
   "metadata": {},
   "outputs": [],
   "source": []
  },
  {
   "cell_type": "markdown",
   "metadata": {},
   "source": [
    "### Рекурсия"
   ]
  },
  {
   "cell_type": "code",
   "execution_count": null,
   "metadata": {},
   "outputs": [],
   "source": [
    "i = 10\n",
    "\n",
    "while i >= 1:\n",
    "    print(i)\n",
    "    i -=1"
   ]
  },
  {
   "cell_type": "code",
   "execution_count": null,
   "metadata": {},
   "outputs": [],
   "source": [
    "def decrease_and_print_i(i):\n",
    "    if i > 1:\n",
    "        print(i)\n",
    "        return decrease_and_print_i(i - 1)\n",
    "\n",
    "    else:\n",
    "        return 1"
   ]
  },
  {
   "cell_type": "code",
   "execution_count": null,
   "metadata": {},
   "outputs": [],
   "source": [
    "decrease_and_print_i(10)"
   ]
  },
  {
   "cell_type": "markdown",
   "metadata": {},
   "source": [
    "# Немного про тесты"
   ]
  },
  {
   "cell_type": "markdown",
   "metadata": {},
   "source": [
    "При необходимости функции удобно выносить в отдельные файлы. Смотрим validations.py и test_validations.py"
   ]
  },
  {
   "cell_type": "markdown",
   "metadata": {},
   "source": [
    "запуск тестов из командной строки:\n",
    "\n",
    "pytest test_validations.py"
   ]
  },
  {
   "cell_type": "markdown",
   "metadata": {},
   "source": [
    "# Классы"
   ]
  },
  {
   "cell_type": "markdown",
   "metadata": {},
   "source": [
    "### Задача\n",
    "Ваш скрипт использует данные по курсу евро на сегодня. Данные по курсам валют можно брать из открытых источников, например, отсюда https://www.cbr-xml-daily.ru/daily_json.js\n",
    "\n",
    "Грядущие проблемы:\n",
    "\n",
    "1. Аналогичный курс евро нужен еще нескольким отчетам и десятку ваших коллег\n",
    "\n",
    "2. С упомянутым сервисом может много чего случиться:\n",
    "    - временная недоступность\n",
    "    - изменение URL с данными\n",
    "    - изменение формата ответа\n",
    "    - закрытие сервиса\n",
    "    \n",
    "3. Со временем могут потребоваться данные не только евро, но и других валют. Также может потребоваться курс за период\n",
    "\n",
    "Во всех этих ситуациях формат возвращаемого курса должен оставаться постоянным, чтобы не переписывать уже написанные отчеты."
   ]
  },
  {
   "cell_type": "code",
   "execution_count": null,
   "metadata": {},
   "outputs": [],
   "source": [
    "import requests"
   ]
  },
  {
   "cell_type": "code",
   "execution_count": null,
   "metadata": {},
   "outputs": [],
   "source": [
    "class Rate:\n",
    "    def __init__(self, format='value'):\n",
    "        self.format = format\n",
    "    \n",
    "    def exchange_rates(self):\n",
    "        \"\"\"\n",
    "        Возвращает ответ сервиса с информацией о валютах в виде:\n",
    "        \n",
    "        {\n",
    "            'AMD': {\n",
    "                'CharCode': 'AMD',\n",
    "                'ID': 'R01060',\n",
    "                'Name': 'Армянских драмов',\n",
    "                'Nominal': 100,\n",
    "                'NumCode': '051',\n",
    "                'Previous': 14.103,\n",
    "                'Value': 14.0879\n",
    "                },\n",
    "            ...\n",
    "        }\n",
    "        \"\"\"\n",
    "        r = requests.get('https://www.cbr-xml-daily.ru/daily_json.js')\n",
    "        return r.json()['Valute']\n",
    "    \n",
    "    def make_format(self, currency):\n",
    "        \"\"\"\n",
    "        Возвращает информацию о валюте currency в двух вариантах:\n",
    "        - полная информация о валюте при self.format = 'full':\n",
    "        Rate('full').make_format('EUR')\n",
    "        {\n",
    "            'CharCode': 'EUR',\n",
    "            'ID': 'R01239',\n",
    "            'Name': 'Евро',\n",
    "            'Nominal': 1,\n",
    "            'NumCode': '978',\n",
    "            'Previous': 79.6765,\n",
    "            'Value': 79.4966\n",
    "        }\n",
    "        \n",
    "        Rate('value').make_format('EUR')\n",
    "        79.4966\n",
    "        \"\"\"\n",
    "        response = self.exchange_rates()\n",
    "        \n",
    "        if currency in response:\n",
    "            if self.format == 'full':\n",
    "                return response[currency]\n",
    "            \n",
    "            if self.format == 'value':\n",
    "                return response[currency]['Value']\n",
    "        \n",
    "        return 'Error'\n",
    "    \n",
    "    def eur(self):\n",
    "        \"\"\"Возвращает курс евро на сегодня в формате self.format\"\"\"\n",
    "        return self.make_format('EUR')\n",
    "    \n",
    "    def usd(self):\n",
    "        \"\"\"Возвращает курс доллара на сегодня в формате self.format\"\"\"\n",
    "        return self.make_format('USD')"
   ]
  },
  {
   "cell_type": "code",
   "execution_count": null,
   "metadata": {},
   "outputs": [],
   "source": [
    "curr = Rate()"
   ]
  },
  {
   "cell_type": "code",
   "execution_count": null,
   "metadata": {},
   "outputs": [],
   "source": [
    "curr.usd()"
   ]
  },
  {
   "cell_type": "code",
   "execution_count": null,
   "metadata": {},
   "outputs": [],
   "source": [
    "curr.eur()"
   ]
  },
  {
   "cell_type": "code",
   "execution_count": null,
   "metadata": {},
   "outputs": [],
   "source": [
    "Rate('full').eur()"
   ]
  },
  {
   "cell_type": "markdown",
   "metadata": {},
   "source": [
    "### Упражнение на дом\n",
    "1. Добавьте в класс еще один формат, который возвращает название валюты (например, 'Евро').\n",
    "\n",
    "2. Добавьте в класс параметр diff (со значениями True или False), который в случае значения True в методах eur и usd будет возвращать не курс валюты, а изменение по сравнению в прошлым значением."
   ]
  },
  {
   "cell_type": "code",
   "execution_count": null,
   "metadata": {},
   "outputs": [],
   "source": []
  },
  {
   "cell_type": "code",
   "execution_count": null,
   "metadata": {},
   "outputs": [],
   "source": []
  }
 ],
 "metadata": {
  "kernelspec": {
   "display_name": "Python 3",
   "language": "python",
   "name": "python3"
  },
  "language_info": {
   "codemirror_mode": {
    "name": "ipython",
    "version": 3
   },
   "file_extension": ".py",
   "mimetype": "text/x-python",
   "name": "python",
   "nbconvert_exporter": "python",
   "pygments_lexer": "ipython3",
   "version": "3.6.4"
  }
 },
 "nbformat": 4,
 "nbformat_minor": 2
}
